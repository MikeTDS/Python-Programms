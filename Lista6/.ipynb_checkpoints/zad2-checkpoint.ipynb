{
 "cells": [
  {
   "cell_type": "code",
   "execution_count": 1,
   "metadata": {},
   "outputs": [],
   "source": [
    "import random\n",
    "import numpy as np\n",
    "import matplotlib.pyplot as plt\n",
    "import math\n",
    "from IPython.display import clear_output"
   ]
  },
  {
   "cell_type": "code",
   "execution_count": 2,
   "metadata": {},
   "outputs": [],
   "source": [
    "def sigmoid(x):\n",
    "    return 1.0/(1 + np.exp(-x))\n",
    "\n",
    "def sigmoid_derivative(x):\n",
    "    return x*(1.0-x)\n",
    "\n",
    "def ReLU(x):\n",
    "    return x * (x>0)\n",
    "\n",
    "def ReLU_derivative(x):\n",
    "    return 1.0 * (x>0)\n",
    "\n",
    "def tanh(x):\n",
    "    return np.tanh(x)\n",
    "\n",
    "def tanh_derivative(x):\n",
    "    return 1.0-x**2"
   ]
  },
  {
   "cell_type": "code",
   "execution_count": 3,
   "metadata": {},
   "outputs": [],
   "source": [
    "class NeuralNetwork:\n",
    "    def __init__(self, x, y, nodes, f1, f2, df1, df2, eta, norm):\n",
    "        self.f1 = f1\n",
    "        self.f2 = f2\n",
    "        self.df1 = df1\n",
    "        self.df2 = df2\n",
    "        self.eta = eta\n",
    "        self.input = x\n",
    "        self.w1 = np.random.rand(nodes,self.input.shape[1])\n",
    "        self.w2 = np.random.rand(1,nodes)\n",
    "        if norm:\n",
    "            self.w1 = 2*self.w1-1\n",
    "            self.w2 = 2*self.w2-1\n",
    "        self.y = y\n",
    "        self.output = np.zeros(self.y.shape)\n",
    "    \n",
    "    def feedforward(self):\n",
    "        self.layer1 = self.f1(np.dot(self.input, self.w1.T))\n",
    "        self.output = self.f2(np.dot(self.layer1, self.w2.T))\n",
    "    \n",
    "    def backprop(self):\n",
    "        delta2 = (self.y - self.output) * self.df2(self.output)\n",
    "        d_w2 = self.eta * np.dot(delta2.T, self.layer1)\n",
    "\n",
    "        delta1 = self.df1(self.layer1) * np.dot(delta2, self.w2)\n",
    "        d_w1 = self.eta * np.dot(delta1.T, self.input)\n",
    "\n",
    "        self.w1 += d_w1\n",
    "        self.w2 += d_w2\n",
    "    \n",
    "    def predict(self,x):\n",
    "        self.x = x\n",
    "        self.feedforward()\n",
    "        print(self.output)"
   ]
  },
  {
   "cell_type": "code",
   "execution_count": 4,
   "metadata": {},
   "outputs": [
    {
     "data": {
      "image/png": "[encoded data removed]",
      "text/plain": [
       "<Figure size 432x288 with 1 Axes>"
      ]
     },
     "metadata": {
      "needs_background": "light"
     },
     "output_type": "display_data"
    },
    {
     "name": "stdout",
     "output_type": "stream",
     "text": [
      "20000 [7.276]\n"
     ]
    }
   ],
   "source": [
    "np.set_printoptions(precision=3, suppress=True)\n",
    "\n",
    "x_label = np.linspace(0,2,161)\n",
    "x = np.array([[i] for i in x_label])\n",
    "y = np.sin((3*np.pi/2)*x)\n",
    "x = np.array([[i,1.0] for i in x_label])\n",
    "\n",
    "nn = NeuralNetwork(x,y,60,tanh,tanh,tanh_derivative,tanh_derivative,0.001, True)\n",
    "for i in range(20001):\n",
    "    if i % 1000 == 0:\n",
    "        clear_output(wait=True)\n",
    "        plt.scatter(x_label,y)\n",
    "        plt.scatter(x_label,nn.output)\n",
    "        plt.show()\n",
    "        print(i, sum((nn.output-y)**2))\n",
    "    nn.feedforward()\n",
    "    nn.backprop()\n",
    "#print(nn.output)"
   ]
  },
  {
   "cell_type": "code",
   "execution_count": 6,
   "metadata": {},
   "outputs": [
    {
     "data": {
      "image/png": "[encoded data removed]",
      "text/plain": [
       "<Figure size 432x288 with 1 Axes>"
      ]
     },
     "metadata": {
      "needs_background": "light"
     },
     "output_type": "display_data"
    },
    {
     "name": "stdout",
     "output_type": "stream",
     "text": [
      "100000 [540526.423]\n"
     ]
    }
   ],
   "source": [
    "x_label = np.linspace(-50,50,101)\n",
    "x = np.array([[i] for i in x_label])\n",
    "y = x**2\n",
    "x = np.array([[i,1.0] for i in x_label])\n",
    "\n",
    "nn = NeuralNetwork(x,y,120,sigmoid,ReLU,sigmoid_derivative,ReLU_derivative,0.0000005,True)\n",
    "for i in range(100001):\n",
    "    if i % 5000 == 0:\n",
    "        clear_output(wait=True)\n",
    "        plt.scatter(x_label,y)\n",
    "        plt.scatter(x_label,nn.output)\n",
    "        plt.show()\n",
    "        print(i, sum((nn.output-y)**2))\n",
    "    nn.feedforward()\n",
    "    nn.backprop()\n",
    "#print(nn.output)"
   ]
  },
  {
   "cell_type": "code",
   "execution_count": null,
   "metadata": {},
   "outputs": [],
   "source": []
  },
  {
   "cell_type": "code",
   "execution_count": null,
   "metadata": {},
   "outputs": [],
   "source": []
  }
 ],
 "metadata": {
  "kernelspec": {
   "display_name": "Python 3",
   "language": "python",
   "name": "python3"
  },
  "language_info": {
   "codemirror_mode": {
    "name": "ipython",
    "version": 3
   },
   "file_extension": ".py",
   "mimetype": "text/x-python",
   "name": "python",
   "nbconvert_exporter": "python",
   "pygments_lexer": "ipython3",
   "version": "3.7.6"
  }
 },
 "nbformat": 4,
 "nbformat_minor": 4
}
