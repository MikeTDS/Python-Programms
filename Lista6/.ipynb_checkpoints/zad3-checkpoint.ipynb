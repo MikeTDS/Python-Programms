{
 "cells": [
  {
   "cell_type": "code",
   "execution_count": 1,
   "metadata": {},
   "outputs": [],
   "source": [
    "import random\n",
    "import numpy as np\n",
    "import matplotlib.pyplot as plt\n",
    "import math\n",
    "from IPython.display import clear_output"
   ]
  },
  {
   "cell_type": "code",
   "execution_count": 2,
   "metadata": {},
   "outputs": [],
   "source": [
    "def sigmoid(x):\n",
    "    return 1.0/(1.0 + np.exp(-x))\n",
    "\n",
    "def sigmoid_derivative(x):\n",
    "    return x*(1.0-x)\n",
    "\n",
    "def ReLU(x):\n",
    "    return x * (x>0)\n",
    "\n",
    "def ReLU_derivative(x):\n",
    "    return 1.0 * (x>0)\n",
    "\n",
    "def tanh(x):\n",
    "    return np.tanh(x)\n",
    "\n",
    "def tanh_derivative(x):\n",
    "    return 1.0-x**2"
   ]
  },
  {
   "cell_type": "code",
   "execution_count": 3,
   "metadata": {},
   "outputs": [],
   "source": [
    "class NeuralNetwork:\n",
    "    def __init__(self, x, y, nodes, f1, f2, f3, df1, df2, df3, eta, norm):\n",
    "        self.f1 = f1\n",
    "        self.f2 = f2\n",
    "        self.f3 = f3\n",
    "        self.df1 = df1\n",
    "        self.df2 = df2\n",
    "        self.df3 = df3\n",
    "        self.eta = eta\n",
    "        self.input = x\n",
    "        self.w1 = np.random.rand(nodes[0],self.input.shape[1])\n",
    "        self.w2 = np.random.rand(nodes[1],nodes[0])\n",
    "        self.w3 = np.random.rand(1,nodes[1])\n",
    "        if norm:\n",
    "            self.w1 = 2*self.w1-1\n",
    "            self.w2 = 2*self.w2-1\n",
    "            self.w3 = 2*self.w3-1\n",
    "        self.y = y\n",
    "        self.output = np.zeros(self.y.shape)\n",
    "    \n",
    "    def feedforward(self):\n",
    "        self.layer1 = self.f1(np.dot(self.input, self.w1.T))\n",
    "        self.layer2 = self.f2(np.dot(self.layer1, self.w2.T))\n",
    "        self.output = self.f3(np.dot(self.layer2, self.w3.T))\n",
    "    \n",
    "    def backprop(self):\n",
    "        delta3 = (self.y - self.output) * self.df3(self.output)\n",
    "        d_w3 = self.eta * np.dot(delta3.T, self.layer2)\n",
    "        \n",
    "        delta2 = self.df2(self.layer2) * np.dot(delta3, self.w3)\n",
    "        d_w2 = self.eta * np.dot(delta2.T, self.layer1)\n",
    "\n",
    "        delta1 = self.df1(self.layer1) * np.dot(delta2, self.w2)\n",
    "        d_w1 = self.eta * np.dot(delta1.T, self.input)\n",
    "\n",
    "        self.w1 += d_w1\n",
    "        self.w2 += d_w2\n",
    "        self.w3 += d_w3\n",
    "    \n",
    "    def predict(self,x):\n",
    "        self.x = x\n",
    "        self.feedforward()\n",
    "        print(self.output)"
   ]
  },
  {
   "cell_type": "code",
   "execution_count": 4,
   "metadata": {},
   "outputs": [
    {
     "data": {
      "image/png": "[encoded data removed]",
      "text/plain": [
       "<Figure size 432x288 with 1 Axes>"
      ]
     },
     "metadata": {
      "needs_background": "light"
     },
     "output_type": "display_data"
    },
    {
     "name": "stdout",
     "output_type": "stream",
     "text": [
      "30000 [0.229]\n"
     ]
    }
   ],
   "source": [
    "# np.set_printoptions(precision=3, suppress=True)\n",
    "\n",
    "# x_label = np.linspace(0,2,161)\n",
    "# x = np.array([[i] for i in x_label])\n",
    "# y = np.sin((3*np.pi/2)*x)\n",
    "# x = np.array([[i,1.0] for i in x_label])\n",
    "\n",
    "# nn = NeuralNetwork(x,y,(15,10),tanh,tanh,tanh,tanh_derivative,tanh_derivative,tanh_derivative,0.001, True)\n",
    "# for i in range(30001):\n",
    "#     if i % 1000 == 0:\n",
    "#         clear_output(wait=True)\n",
    "#         plt.scatter(x_label,y)\n",
    "#         plt.scatter(x_label,nn.output)\n",
    "#         plt.show()\n",
    "#         print(i, sum((nn.output-y)**2))\n",
    "#     nn.feedforward()\n",
    "#     nn.backprop()"
   ]
  },
  {
   "cell_type": "code",
   "execution_count": null,
   "metadata": {},
   "outputs": [
    {
     "data": {
      "image/png": "[encoded data removed]",
      "text/plain": [
       "<Figure size 432x288 with 1 Axes>"
      ]
     },
     "metadata": {
      "needs_background": "light"
     },
     "output_type": "display_data"
    },
    {
     "name": "stdout",
     "output_type": "stream",
     "text": [
      "38000 [1.313e+08]\n"
     ]
    }
   ],
   "source": [
    "x_label = np.linspace(-50,50,101)\n",
    "x = np.array([[i] for i in x_label])\n",
    "y = x**2\n",
    "x = np.array([[i,1.0] for i in x_label])\n",
    "\n",
    "nn = NeuralNetwork(x,y,(40,25),sigmoid,ReLU,ReLU,sigmoid_derivative,ReLU_derivative,ReLU_derivative,0.000000003,True)\n",
    "for i in range(200001):\n",
    "    if i % 1000 == 0:\n",
    "        clear_output(wait=True)\n",
    "        plt.scatter(x_label,y)\n",
    "        plt.scatter(x_label,nn.output)\n",
    "        plt.show()\n",
    "        print(i, sum((nn.output-y)**2))\n",
    "    nn.feedforward()\n",
    "    nn.backprop()"
   ]
  },
  {
   "cell_type": "code",
   "execution_count": null,
   "metadata": {},
   "outputs": [],
   "source": []
  },
  {
   "cell_type": "code",
   "execution_count": null,
   "metadata": {},
   "outputs": [],
   "source": []
  }
 ],
 "metadata": {
  "kernelspec": {
   "display_name": "Python 3",
   "language": "python",
   "name": "python3"
  },
  "language_info": {
   "codemirror_mode": {
    "name": "ipython",
    "version": 3
   },
   "file_extension": ".py",
   "mimetype": "text/x-python",
   "name": "python",
   "nbconvert_exporter": "python",
   "pygments_lexer": "ipython3",
   "version": "3.7.6"
  }
 },
 "nbformat": 4,
 "nbformat_minor": 4
}
