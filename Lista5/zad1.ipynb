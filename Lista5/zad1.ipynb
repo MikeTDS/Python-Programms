{
 "cells": [
  {
   "cell_type": "markdown",
   "metadata": {},
   "source": [
    "**Komentarz do wyników:**  \n",
    "Bazując jedynie na zbiorze testowym, zwiększanie parametru m znacząco poprawia wyniki. Dla małych m otrzymana funkcja jedynie \"uśrednia\" prawdziwe oceny. Zwiększając m dostajemy wykres coraz bardziej zbliżony do oczekiwanego.  \n",
    "Dodając zbiór walidacyjny widzimy, że przy tak małej ilości danych nie da się zrobić sensownej predykcji. Mimo, że zbiór testowy dopasowuje się prawie idealnie, tak próbując sprawdzić predykcje na nowych danych okazuje się, że są one dalekie od oczekiwań. Wynika to z faktu, metoda regresji liniowej nie jest dla postawionego problemu najlepszym rozwiązaniem. Ponadto zbiór użytkowników jest za mały.   \n",
    "**Wnioski:**  \n",
    "Minimalizując funkcję kosztu, program uczy się zbioru treningowego na pamięć, co nie przekłada się w większym stopniu na dobrą jakość predykcji. Powodem tego jest zapewne mała liczba użytkowników branych pod uwagę oraz mała liczba wystawionych ocen (czyli różnych od 0)."
   ]
  },
  {
   "cell_type": "code",
   "execution_count": 1,
   "metadata": {},
   "outputs": [],
   "source": [
    "import matplotlib.pyplot as plt\n",
    "import numpy as np "
   ]
  },
  {
   "cell_type": "markdown",
   "metadata": {},
   "source": [
    "**Parametry:**  \n",
    "**m** - liczba ocen branych pod uwagę (w tym 0 dla braku danych), nie licząc oceny za \"Toy Story\"  \n",
    "**n** - liczba osób, których oceny bierzemy pod uwagę (**max 215**)  \n",
    "**trainsize** - wielkość zbioru treningowego, jeśli trainsize = n, to zbiór walidacyjny jest pusty (**max n**)"
   ]
  },
  {
   "cell_type": "code",
   "execution_count": 2,
   "metadata": {},
   "outputs": [],
   "source": [
    "m = 10000\n",
    "n = 215\n",
    "trainsize = 200"
   ]
  },
  {
   "cell_type": "markdown",
   "metadata": {},
   "source": [
    "Importowanie danych"
   ]
  },
  {
   "cell_type": "code",
   "execution_count": 3,
   "metadata": {},
   "outputs": [],
   "source": [
    "with open('ml-latest-small/ratings.csv', 'r') as file:\n",
    "     raw_data = file.read()"
   ]
  },
  {
   "cell_type": "markdown",
   "metadata": {},
   "source": [
    "Konwerowanie danych"
   ]
  },
  {
   "cell_type": "code",
   "execution_count": 4,
   "metadata": {},
   "outputs": [],
   "source": [
    "temp = raw_data.split('\\n')\n",
    "data = [row.split(',') for row in temp[1:-1]]\n",
    "users = [x[0] for x in data if x[1] == '1']\n",
    "users = users[:n]"
   ]
  },
  {
   "cell_type": "code",
   "execution_count": 5,
   "metadata": {},
   "outputs": [],
   "source": [
    "X = [[0.0 for i in range(m)] for j in range(n)]\n",
    "for row in X:\n",
    "    row.append(1.0)\n",
    "Y = [[0.0] for i in range(n)]"
   ]
  },
  {
   "cell_type": "code",
   "execution_count": 6,
   "metadata": {},
   "outputs": [],
   "source": [
    "current = 1\n",
    "idd = 0\n",
    "for row in data:\n",
    "    if row[0] in users and int(row[1]) < m+2:\n",
    "        if current != int(row[0]) and idd<n-1:\n",
    "                idd += 1\n",
    "                current = int(row[0])\n",
    "        if row[1] != '1':\n",
    "            X[idd][int(row[1])-2] = float(row[2])\n",
    "        else:\n",
    "            Y[idd] = float(row[2])"
   ]
  },
  {
   "cell_type": "markdown",
   "metadata": {},
   "source": [
    "Podział na zbiór treningowy i walidacyjny"
   ]
  },
  {
   "cell_type": "code",
   "execution_count": 7,
   "metadata": {
    "tags": [
     "outputPrepend"
    ]
   },
   "outputs": [],
   "source": [
    "X = np.array(X, dtype=float)\n",
    "Y = np.array(Y, dtype=float)\n",
    "trainX = X[:trainsize]\n",
    "valX = X[trainsize:]"
   ]
  },
  {
   "cell_type": "markdown",
   "metadata": {},
   "source": [
    "Regresja liniowa z numpy"
   ]
  },
  {
   "cell_type": "code",
   "execution_count": 8,
   "metadata": {},
   "outputs": [],
   "source": [
    "args = np.linalg.lstsq(trainX,Y[:trainsize],rcond=None)[0]"
   ]
  },
  {
   "cell_type": "markdown",
   "metadata": {},
   "source": [
    "Funkcja obliczająca przewidywaną ocenę"
   ]
  },
  {
   "cell_type": "code",
   "execution_count": 9,
   "metadata": {},
   "outputs": [],
   "source": [
    "def pred(args,x):\n",
    "    return sum(args[i]*x[i] for i in range(len(x)))"
   ]
  },
  {
   "cell_type": "markdown",
   "metadata": {},
   "source": [
    "Test na zbiorze walidacyjnym"
   ]
  },
  {
   "cell_type": "code",
   "execution_count": 10,
   "metadata": {},
   "outputs": [
    {
     "name": "stdout",
     "output_type": "stream",
     "text": [
      "real: 5.0 - prediction: 5.679942195082748\n",
      "real: 4.0 - prediction: 5.899196689184531\n",
      "real: 4.0 - prediction: 2.501002760884487\n",
      "real: 4.0 - prediction: 0.8661927888968353\n",
      "real: 3.0 - prediction: 0.5414124789731581\n",
      "real: 2.5 - prediction: 6.764433559758129\n",
      "real: 4.0 - prediction: 3.2386758419241395\n",
      "real: 4.0 - prediction: 2.472935224784899\n",
      "real: 3.0 - prediction: 4.230245424228896\n",
      "real: 4.0 - prediction: 4.225268520973148\n",
      "real: 2.5 - prediction: 0.33846350808147435\n",
      "real: 4.0 - prediction: 2.897078803821788\n",
      "real: 2.5 - prediction: 2.1962176889169482\n",
      "real: 3.0 - prediction: 2.893948171041764\n",
      "real: 5.0 - prediction: 4.129194932403834\n"
     ]
    }
   ],
   "source": [
    "for i in range(len(valX)):\n",
    "    print('real: ' + str(Y[trainsize+i]) + ' - prediction: ' + str(pred(args,valX[i])))"
   ]
  },
  {
   "cell_type": "markdown",
   "metadata": {},
   "source": [
    "Test na zbiorze treningowym"
   ]
  },
  {
   "cell_type": "code",
   "execution_count": 11,
   "metadata": {},
   "outputs": [
    {
     "name": "stdout",
     "output_type": "stream",
     "text": [
      "real: 4.0 - prediction: 3.9999999999999774\n",
      "real: 4.0 - prediction: 3.9999999999999964\n",
      "real: 4.5 - prediction: 4.499999999999989\n",
      "real: 2.5 - prediction: 2.5000000000000018\n",
      "real: 4.5 - prediction: 4.500000000000018\n",
      "real: 3.5 - prediction: 3.4999999999999742\n",
      "real: 4.0 - prediction: 3.999999999999969\n",
      "real: 3.5 - prediction: 3.4999999999999725\n",
      "real: 3.0 - prediction: 2.9999999999999987\n",
      "real: 5.0 - prediction: 5.000000000000002\n",
      "real: 3.0 - prediction: 2.9999999999999836\n",
      "real: 3.0 - prediction: 3.000000000000001\n",
      "real: 5.0 - prediction: 4.999999999999966\n",
      "real: 5.0 - prediction: 4.999999999999992\n",
      "real: 3.0 - prediction: 2.999999999999985\n",
      "real: 4.0 - prediction: 3.999999999999992\n",
      "real: 5.0 - prediction: 5.000000000000001\n",
      "real: 3.0 - prediction: 2.9999999999999734\n",
      "real: 3.0 - prediction: 2.9999999999999982\n",
      "real: 5.0 - prediction: 4.999999999999991\n",
      "real: 5.0 - prediction: 4.999999999999986\n",
      "real: 4.0 - prediction: 3.9999999999999765\n",
      "real: 4.0 - prediction: 3.9999999999999694\n",
      "real: 2.5 - prediction: 2.4999999999999565\n",
      "real: 5.0 - prediction: 4.999999999999981\n",
      "real: 4.5 - prediction: 4.499999999999988\n",
      "real: 0.5 - prediction: 0.5000000000000092\n",
      "real: 4.0 - prediction: 3.9999999999999774\n",
      "real: 2.5 - prediction: 2.500000000000007\n",
      "real: 4.0 - prediction: 4.000000000000001\n",
      "real: 3.0 - prediction: 2.999999999999989\n",
      "real: 3.0 - prediction: 2.9999999999999907\n",
      "real: 4.0 - prediction: 3.9999999999999782\n",
      "real: 3.0 - prediction: 2.9999999999999947\n",
      "real: 5.0 - prediction: 4.99999999999999\n",
      "real: 4.5 - prediction: 4.5000000000000036\n",
      "real: 4.0 - prediction: 3.9999999999999782\n",
      "real: 4.0 - prediction: 3.999999999999988\n",
      "real: 3.0 - prediction: 2.999999999999993\n",
      "real: 3.5 - prediction: 3.499999999999984\n",
      "real: 4.0 - prediction: 3.9999999999999822\n",
      "real: 4.0 - prediction: 3.99999999999999\n",
      "real: 3.0 - prediction: 2.999999999999985\n",
      "real: 2.0 - prediction: 1.9999999999999853\n",
      "real: 3.0 - prediction: 2.999999999999995\n",
      "real: 4.0 - prediction: 3.9999999999999596\n",
      "real: 4.0 - prediction: 3.9999999999999925\n",
      "real: 3.0 - prediction: 2.999999999999983\n",
      "real: 4.0 - prediction: 3.9999999999999853\n",
      "real: 3.5 - prediction: 3.500000000000004\n",
      "real: 5.0 - prediction: 4.999999999999988\n",
      "real: 5.0 - prediction: 4.99999999999999\n",
      "real: 2.0 - prediction: 1.9999999999999951\n",
      "real: 3.0 - prediction: 2.999999999999984\n",
      "real: 4.0 - prediction: 3.9999999999999822\n",
      "real: 4.5 - prediction: 4.500000000000012\n",
      "real: 4.0 - prediction: 3.9999999999999747\n",
      "real: 4.0 - prediction: 4.000000000000012\n",
      "real: 5.0 - prediction: 4.999999999999993\n",
      "real: 3.5 - prediction: 3.4999999999999685\n",
      "real: 4.5 - prediction: 4.499999999999984\n",
      "real: 5.0 - prediction: 4.99999999999999\n",
      "real: 5.0 - prediction: 4.999999999999971\n",
      "real: 4.0 - prediction: 3.999999999999994\n",
      "real: 4.0 - prediction: 4.000000000000004\n",
      "real: 4.0 - prediction: 3.999999999999971\n",
      "real: 4.0 - prediction: 4.0000000000000115\n",
      "real: 4.0 - prediction: 3.999999999999994\n",
      "real: 4.0 - prediction: 4.000000000000002\n",
      "real: 2.0 - prediction: 2.000000000000002\n",
      "real: 3.5 - prediction: 3.499999999999989\n",
      "real: 5.0 - prediction: 5.000000000000002\n",
      "real: 4.0 - prediction: 3.999999999999996\n",
      "real: 5.0 - prediction: 4.999999999999987\n",
      "real: 3.5 - prediction: 3.499999999999982\n",
      "real: 3.0 - prediction: 3.000000000000001\n",
      "real: 3.0 - prediction: 3.0000000000000235\n",
      "real: 4.0 - prediction: 3.9999999999999876\n",
      "real: 3.5 - prediction: 3.4999999999999813\n",
      "real: 5.0 - prediction: 4.999999999999969\n",
      "real: 3.5 - prediction: 3.500000000000001\n",
      "real: 3.5 - prediction: 3.4999999999999556\n",
      "real: 5.0 - prediction: 4.999999999999998\n",
      "real: 3.5 - prediction: 3.4999999999999667\n",
      "real: 3.0 - prediction: 2.9999999999999862\n",
      "real: 5.0 - prediction: 4.999999999999988\n",
      "real: 4.0 - prediction: 3.999999999999987\n",
      "real: 5.0 - prediction: 4.9999999999999885\n",
      "real: 5.0 - prediction: 4.9999999999999885\n",
      "real: 4.0 - prediction: 3.999999999999977\n",
      "real: 4.5 - prediction: 4.500000000000011\n",
      "real: 4.5 - prediction: 4.499999999999998\n",
      "real: 4.0 - prediction: 3.9999999999999893\n",
      "real: 4.0 - prediction: 3.999999999999981\n",
      "real: 2.0 - prediction: 1.9999999999999973\n",
      "real: 5.0 - prediction: 5.000000000000014\n",
      "real: 5.0 - prediction: 4.999999999999996\n",
      "real: 5.0 - prediction: 4.999999999999977\n",
      "real: 4.0 - prediction: 3.999999999999943\n",
      "real: 5.0 - prediction: 4.999999999999976\n",
      "real: 4.0 - prediction: 3.999999999999991\n",
      "real: 4.0 - prediction: 3.999999999999977\n",
      "real: 3.0 - prediction: 2.9999999999999822\n",
      "real: 4.5 - prediction: 4.499999999999997\n",
      "real: 4.5 - prediction: 4.499999999999975\n",
      "real: 3.0 - prediction: 2.99999999999998\n",
      "real: 4.5 - prediction: 4.499999999999968\n",
      "real: 4.0 - prediction: 3.999999999999986\n",
      "real: 4.0 - prediction: 4.000000000000007\n",
      "real: 4.0 - prediction: 3.9999999999999947\n",
      "real: 3.0 - prediction: 2.9999999999999964\n",
      "real: 2.0 - prediction: 1.9999999999999796\n",
      "real: 5.0 - prediction: 4.999999999999958\n",
      "real: 4.0 - prediction: 3.9999999999999933\n",
      "real: 3.0 - prediction: 2.9999999999999893\n",
      "real: 3.5 - prediction: 3.499999999999994\n",
      "real: 3.5 - prediction: 3.4999999999999902\n",
      "real: 5.0 - prediction: 4.999999999999986\n",
      "real: 4.0 - prediction: 3.99999999999998\n",
      "real: 4.0 - prediction: 4.0000000000000036\n",
      "real: 3.5 - prediction: 3.49999999999999\n",
      "real: 4.0 - prediction: 3.9999999999999996\n",
      "real: 4.0 - prediction: 4.000000000000015\n",
      "real: 4.0 - prediction: 3.999999999999988\n",
      "real: 5.0 - prediction: 4.999999999999988\n",
      "real: 5.0 - prediction: 5.000000000000003\n",
      "real: 4.0 - prediction: 3.9999999999999822\n",
      "real: 5.0 - prediction: 4.999999999999995\n",
      "real: 5.0 - prediction: 4.999999999999962\n",
      "real: 4.0 - prediction: 3.999999999999994\n",
      "real: 5.0 - prediction: 5.000000000000008\n",
      "real: 5.0 - prediction: 5.000000000000023\n",
      "real: 3.0 - prediction: 3.0000000000000155\n",
      "real: 3.0 - prediction: 2.9999999999999893\n",
      "real: 4.5 - prediction: 4.4999999999999964\n",
      "real: 5.0 - prediction: 4.999999999999961\n",
      "real: 3.5 - prediction: 3.4999999999999636\n",
      "real: 4.5 - prediction: 4.499999999999985\n",
      "real: 4.0 - prediction: 3.99999999999999\n",
      "real: 5.0 - prediction: 4.9999999999999725\n",
      "real: 3.0 - prediction: 2.999999999999993\n",
      "real: 5.0 - prediction: 4.999999999999987\n",
      "real: 4.0 - prediction: 3.9999999999999902\n",
      "real: 3.5 - prediction: 3.500000000000012\n",
      "real: 5.0 - prediction: 5.0000000000000036\n",
      "real: 2.0 - prediction: 2.0000000000000173\n",
      "real: 4.0 - prediction: 3.999999999999993\n",
      "real: 4.0 - prediction: 3.9999999999999813\n",
      "real: 4.0 - prediction: 3.9999999999999987\n",
      "real: 2.5 - prediction: 2.4999999999999853\n",
      "real: 4.0 - prediction: 3.999999999999976\n",
      "real: 4.0 - prediction: 3.999999999999997\n",
      "real: 4.5 - prediction: 4.499999999999987\n",
      "real: 4.0 - prediction: 3.9999999999999876\n",
      "real: 5.0 - prediction: 4.999999999999945\n",
      "real: 5.0 - prediction: 4.999999999999995\n",
      "real: 5.0 - prediction: 4.9999999999999964\n",
      "real: 5.0 - prediction: 5.000000000000007\n",
      "real: 4.5 - prediction: 4.499999999999999\n",
      "real: 1.5 - prediction: 1.4999999999999791\n",
      "real: 4.0 - prediction: 3.9999999999999782\n",
      "real: 4.0 - prediction: 3.999999999999991\n",
      "real: 4.0 - prediction: 3.9999999999999893\n",
      "real: 5.0 - prediction: 4.99999999999998\n",
      "real: 4.0 - prediction: 3.9999999999999605\n",
      "real: 4.0 - prediction: 4.000000000000007\n",
      "real: 4.0 - prediction: 3.999999999999979\n",
      "real: 3.0 - prediction: 2.99999999999995\n",
      "real: 4.0 - prediction: 3.999999999999975\n",
      "real: 4.5 - prediction: 4.499999999999996\n",
      "real: 4.5 - prediction: 4.49999999999999\n",
      "real: 3.5 - prediction: 3.4999999999999982\n",
      "real: 4.0 - prediction: 4.000000000000019\n",
      "real: 4.0 - prediction: 4.000000000000003\n",
      "real: 4.0 - prediction: 3.9999999999999933\n",
      "real: 4.0 - prediction: 3.9999999999999867\n",
      "real: 4.0 - prediction: 4.00000000000001\n",
      "real: 4.0 - prediction: 3.9999999999999796\n",
      "real: 3.0 - prediction: 2.999999999999991\n",
      "real: 4.0 - prediction: 4.000000000000001\n",
      "real: 4.0 - prediction: 3.999999999999988\n",
      "real: 2.5 - prediction: 2.499999999999999\n",
      "real: 3.0 - prediction: 2.999999999999987\n",
      "real: 5.0 - prediction: 4.999999999999963\n",
      "real: 4.0 - prediction: 3.999999999999963\n",
      "real: 3.0 - prediction: 2.9999999999999925\n",
      "real: 3.0 - prediction: 2.9999999999999827\n",
      "real: 4.0 - prediction: 4.000000000000003\n",
      "real: 4.0 - prediction: 4.000000000000003\n",
      "real: 5.0 - prediction: 4.999999999999997\n",
      "real: 3.0 - prediction: 2.999999999999962\n",
      "real: 4.0 - prediction: 4.000000000000035\n",
      "real: 4.5 - prediction: 4.499999999999996\n",
      "real: 3.5 - prediction: 3.4999999999999853\n",
      "real: 4.0 - prediction: 3.9999999999999942\n",
      "real: 4.0 - prediction: 3.9999999999999742\n",
      "real: 5.0 - prediction: 4.999999999999991\n",
      "real: 4.0 - prediction: 4.0\n",
      "real: 3.0 - prediction: 2.9999999999999876\n"
     ]
    },
    {
     "name": "stdout",
     "output_type": "stream",
     "text": [
      "real: 5.0 - prediction: 4.999999999999989\n"
     ]
    }
   ],
   "source": [
    "for i in range(len(trainX)):\n",
    "    print('real: ' + str(Y[i]) + ' - prediction: ' + str(pred(args,trainX[i])))"
   ]
  },
  {
   "cell_type": "markdown",
   "metadata": {},
   "source": [
    "Wykres dla obu zbiorów"
   ]
  },
  {
   "cell_type": "code",
   "execution_count": 12,
   "metadata": {},
   "outputs": [
    {
     "data": {
      "image/png": "[encoded data removed]",
      "text/plain": [
       "<Figure size 432x288 with 1 Axes>"
      ]
     },
     "metadata": {
      "needs_background": "light"
     },
     "output_type": "display_data"
    }
   ],
   "source": [
    "x_label = np.arange(n)\n",
    "y_real = Y\n",
    "y_pred = [pred(args,x) for x in X]\n",
    "plt.plot(x_label, y_real, 'o', markersize = 5)\n",
    "plt.plot(x_label, y_pred, 'r', markersize = 5)\n",
    "plt.show()"
   ]
  },
  {
   "cell_type": "markdown",
   "metadata": {},
   "source": [
    "Wykres dla zbioru treningowego"
   ]
  },
  {
   "cell_type": "code",
   "execution_count": 13,
   "metadata": {},
   "outputs": [
    {
     "data": {
      "image/png": "[encoded data removed]",
      "text/plain": [
       "<Figure size 432x288 with 1 Axes>"
      ]
     },
     "metadata": {
      "needs_background": "light"
     },
     "output_type": "display_data"
    }
   ],
   "source": [
    "x_label = np.arange(trainsize)\n",
    "y_real = Y[:trainsize] \n",
    "y_pred = [pred(args,x) for x in trainX]\n",
    "plt.plot(x_label, y_real, 'o', markersize = 5)\n",
    "plt.plot(x_label, y_pred, 'r')\n",
    "plt.show()"
   ]
  },
  {
   "cell_type": "markdown",
   "metadata": {},
   "source": [
    "Wykres dla zbioru walidacyjnego"
   ]
  },
  {
   "cell_type": "code",
   "execution_count": 14,
   "metadata": {},
   "outputs": [
    {
     "data": {
      "image/png": "[encoded data removed]",
      "text/plain": [
       "<Figure size 432x288 with 1 Axes>"
      ]
     },
     "metadata": {
      "needs_background": "light"
     },
     "output_type": "display_data"
    }
   ],
   "source": [
    "x_label = np.arange(n-trainsize)\n",
    "y_real = Y[trainsize:] \n",
    "y_pred = [pred(args,x) for x in valX]\n",
    "plt.plot(x_label, y_real, 'o', markersize = 5, label='real')\n",
    "plt.plot(x_label, y_pred, 'o', markersize = 3, label='prediction')\n",
    "plt.legend()\n",
    "plt.show()"
   ]
  },
  {
   "cell_type": "code",
   "execution_count": null,
   "metadata": {},
   "outputs": [],
   "source": []
  }
 ],
 "metadata": {
  "file_extension": ".py",
  "kernelspec": {
   "display_name": "Python 3.7.6 64-bit ('base': conda)",
   "language": "python",
   "name": "python37664bitbasecondacf84afc0a1c84bb1825f766eb94a4ba8"
  },
  "language_info": {
   "codemirror_mode": {
    "name": "ipython",
    "version": 3
   },
   "file_extension": ".py",
   "mimetype": "text/x-python",
   "name": "python",
   "nbconvert_exporter": "python",
   "pygments_lexer": "ipython3",
   "version": "3.7.6"
  },
  "mimetype": "text/x-python",
  "name": "python",
  "npconvert_exporter": "python",
  "pygments_lexer": "ipython3",
  "version": 3
 },
 "nbformat": 4,
 "nbformat_minor": 2
}
