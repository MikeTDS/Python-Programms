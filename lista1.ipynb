{
  "nbformat": 4,
  "nbformat_minor": 0,
  "metadata": {
    "kernelspec": {
      "name": "python3",
      "display_name": "Python 3"
    },
    "language_info": {
      "codemirror_mode": {
        "name": "ipython",
        "version": 3
      },
      "file_extension": ".py",
      "mimetype": "text/x-python",
      "name": "python",
      "nbconvert_exporter": "python",
      "pygments_lexer": "ipython3",
      "version": "3.8.1"
    },
    "colab": {
      "name": "lista1.ipynb",
      "provenance": [],
      "collapsed_sections": []
    }
  },
  "cells": [
    {
      "cell_type": "markdown",
      "metadata": {
        "id": "xhHc8pXOMAwQ",
        "colab_type": "text"
      },
      "source": [
        "# Lista 1\n",
        "\n",
        "## Kurs wybranego języka programowania (Python)\n",
        "\n",
        "Wszystkie rozwiązania proszę wpisać w tym notatniku poniżej treści zadań. Zadania z `*` to zadania dodatkowe."
      ]
    },
    {
      "cell_type": "markdown",
      "metadata": {
        "id": "-QjBmhCkMAwt",
        "colab_type": "text"
      },
      "source": [
        "## Zadanie 1 _(5pt)_\n",
        "\n",
        "Napisz funkcję, który wyświetla trójkąt Pascala o zadanej wysokości\n",
        "```\n",
        "                1\n",
        "              1   1\n",
        "            1   2   1\n",
        "          1   3   3   1\n",
        "        1   4   6   4   1\n",
        "      .....................\n",
        "```"
      ]
    },
    {
      "cell_type": "code",
      "metadata": {
        "id": "UBpxiM9oMAw_",
        "colab_type": "code",
        "colab": {}
      },
      "source": [
        "def pascal_triangle(n):\n",
        "    spaces = n-1\n",
        "    line = 0\n",
        "    for i in range(0, n):\n",
        "      for j in range(0, spaces):\n",
        "        print(\" \", end=' ')\n",
        "      for k in range(0, line+1):\n",
        "        print(binomial_coefficient(line, k), end=' ')\n",
        "        print(\" \", end=' ')\n",
        "      print(\"\")\n",
        "      spaces-=1\n",
        "      line+=1"
      ],
      "execution_count": 0,
      "outputs": []
    },
    {
      "cell_type": "code",
      "metadata": {
        "id": "Awxnl8eePHqM",
        "colab_type": "code",
        "colab": {}
      },
      "source": [
        "def binomial_coefficient(n, k): \n",
        "    bc = 1\n",
        "    for i in range(0 , k): \n",
        "        bc = bc * (n - i) \n",
        "        bc = bc // (i + 1) \n",
        "    return bc "
      ],
      "execution_count": 0,
      "outputs": []
    },
    {
      "cell_type": "code",
      "metadata": {
        "id": "axzcnuBnODvl",
        "colab_type": "code",
        "outputId": "be52847b-29f8-423c-9dbe-63a365f9698a",
        "colab": {
          "base_uri": "https://localhost:8080/",
          "height": 272
        }
      },
      "source": [
        "pascal_triangle(15)"
      ],
      "execution_count": 0,
      "outputs": [
        {
          "output_type": "stream",
          "text": [
            "                            1   \n",
            "                          1   1   \n",
            "                        1   2   1   \n",
            "                      1   3   3   1   \n",
            "                    1   4   6   4   1   \n",
            "                  1   5   10   10   5   1   \n",
            "                1   6   15   20   15   6   1   \n",
            "              1   7   21   35   35   21   7   1   \n",
            "            1   8   28   56   70   56   28   8   1   \n",
            "          1   9   36   84   126   126   84   36   9   1   \n",
            "        1   10   45   120   210   252   210   120   45   10   1   \n",
            "      1   11   55   165   330   462   462   330   165   55   11   1   \n",
            "    1   12   66   220   495   792   924   792   495   220   66   12   1   \n",
            "  1   13   78   286   715   1287   1716   1716   1287   715   286   78   13   1   \n",
            "1   14   91   364   1001   2002   3003   3432   3003   2002   1001   364   91   14   1   \n"
          ],
          "name": "stdout"
        }
      ]
    },
    {
      "cell_type": "markdown",
      "metadata": {
        "id": "eJ4AcScVMAx8",
        "colab_type": "text"
      },
      "source": [
        "## Zadanie 2 _(5pt)_\n",
        "\n",
        "Napisz funkcję `primes(n)` zwracająca listę liczb pierwszych nie większych niż $n$ np.\n",
        "\n",
        "```\n",
        "In [ ]:   primes(6)\n",
        "Out [ ]: [2, 3, 5]\n",
        "```"
      ]
    },
    {
      "cell_type": "code",
      "metadata": {
        "id": "pbaxVOqZMAyJ",
        "colab_type": "code",
        "colab": {}
      },
      "source": [
        "def primes(n):\n",
        "  prime_list = []\n",
        "  for i in range(2, n):\n",
        "      for k in range(2, i):\n",
        "           if (i % k) == 0:\n",
        "               break\n",
        "      else:\n",
        "           prime_list.append(i)\n",
        "  return prime_list"
      ],
      "execution_count": 0,
      "outputs": []
    },
    {
      "cell_type": "code",
      "metadata": {
        "id": "kiQGT639omCC",
        "colab_type": "code",
        "outputId": "b66b0c2c-5581-434a-9cc5-22b182ee07c8",
        "colab": {
          "base_uri": "https://localhost:8080/",
          "height": 34
        }
      },
      "source": [
        "print(primes(100))"
      ],
      "execution_count": 0,
      "outputs": [
        {
          "output_type": "stream",
          "text": [
            "[2, 3, 5, 7, 11, 13, 17, 19, 23, 29, 31, 37, 41, 43, 47, 53, 59, 61, 67, 71, 73, 79, 83, 89, 97]\n"
          ],
          "name": "stdout"
        }
      ]
    },
    {
      "cell_type": "markdown",
      "metadata": {
        "id": "717Xg_8EMAyt",
        "colab_type": "text"
      },
      "source": [
        "## Zadanie 3 _(5pt)_\n",
        "\n",
        "Napisz funkcje, która usuwa wszystkie powtarzające się elementy z listy (tak, że każdy element występuje tylko raz) np. z listy `[1,1,2,2,2,3,3,5,5,5,4,4,4,0]` dostajemy `[1,2,3,5,4,0]`."
      ]
    },
    {
      "cell_type": "code",
      "metadata": {
        "id": "wk_67uHhMAy6",
        "colab_type": "code",
        "colab": {}
      },
      "source": [
        "def list_cleaner(my_list):\n",
        "  return list(dict.fromkeys(my_list))"
      ],
      "execution_count": 0,
      "outputs": []
    },
    {
      "cell_type": "code",
      "metadata": {
        "id": "CWrrFPPRryap",
        "colab_type": "code",
        "outputId": "86fb46cd-2bba-47d7-edfe-744d9477cc1c",
        "colab": {
          "base_uri": "https://localhost:8080/",
          "height": 34
        }
      },
      "source": [
        "list_cleaner([1,2,4,5,2,4,1,6,1,2,4])"
      ],
      "execution_count": 0,
      "outputs": [
        {
          "output_type": "execute_result",
          "data": {
            "text/plain": [
              "[1, 2, 4, 5, 6]"
            ]
          },
          "metadata": {
            "tags": []
          },
          "execution_count": 8
        }
      ]
    },
    {
      "cell_type": "markdown",
      "metadata": {
        "id": "nULY1KSZMAzh",
        "colab_type": "text"
      },
      "source": [
        "## Zadanie 4 _(10pt)_\n",
        "\n",
        "Napisz funkcję `prime_factors(n)`, która rozkłada $n$ na czynniki pierwsze i jako wynik wraca listę par $[(p_1,\\alpha_1), (p_2,\\alpha_2), \\ldots, (p_k, \\alpha_k)]$ taką, że $p_1^{\\alpha_1}p_2^{\\alpha_2}\\ldots p_k^{\\alpha_k}$.\n"
      ]
    },
    {
      "cell_type": "code",
      "metadata": {
        "id": "IAMFlQsnMAzy",
        "colab_type": "code",
        "colab": {}
      },
      "source": [
        "def prime_factors(n):\n",
        "  factors = []\n",
        "  result = []\n",
        "  for i in range(2, n+1):\n",
        "    while n % i == 0:\n",
        "      factors.append(i)\n",
        "      n = n // i\n",
        "  for f in list(dict.fromkeys(factors)):\n",
        "    result.append((f, factors.count(f)))\n",
        "  return result"
      ],
      "execution_count": 0,
      "outputs": []
    },
    {
      "cell_type": "code",
      "metadata": {
        "id": "WIIzejiSstr3",
        "colab_type": "code",
        "outputId": "5e7cda95-f303-47fd-b84f-0cc4382c2bc7",
        "colab": {
          "base_uri": "https://localhost:8080/",
          "height": 34
        }
      },
      "source": [
        "prime_factors(27*25*1024)"
      ],
      "execution_count": 0,
      "outputs": [
        {
          "output_type": "execute_result",
          "data": {
            "text/plain": [
              "[(2, 10), (3, 3), (5, 2)]"
            ]
          },
          "metadata": {
            "tags": []
          },
          "execution_count": 264
        }
      ]
    },
    {
      "cell_type": "markdown",
      "metadata": {
        "id": "7vpnVtuNMA0V",
        "colab_type": "text"
      },
      "source": [
        "## Zadanie 5 _(10pt)_\n",
        "\n",
        "Napisz funkcję `fraczero(n)` liczącą silnie $n!$ dla $n$ od $0$ do $10000$ oraz jako wynik wraca liczbę zer na końcu $n!$."
      ]
    },
    {
      "cell_type": "code",
      "metadata": {
        "id": "aT4pCtaAMA0d",
        "colab_type": "code",
        "colab": {}
      },
      "source": [
        "def fraczero(n):\n",
        "  result = 1\n",
        "  zeros = 0\n",
        "  for i in range(0,n):\n",
        "    result *= (i+1)\n",
        "  while result % 10 == 0:\n",
        "    zeros+=1\n",
        "    result = result // 10 \n",
        "  return zeros"
      ],
      "execution_count": 0,
      "outputs": []
    },
    {
      "cell_type": "code",
      "metadata": {
        "id": "3UOlMzcvgvzG",
        "colab_type": "code",
        "outputId": "6cd1ca8c-3613-41ae-cca9-d5029f9b5eb2",
        "colab": {
          "base_uri": "https://localhost:8080/",
          "height": 34
        }
      },
      "source": [
        "fraczero(10000)"
      ],
      "execution_count": 0,
      "outputs": [
        {
          "output_type": "execute_result",
          "data": {
            "text/plain": [
              "2499"
            ]
          },
          "metadata": {
            "tags": []
          },
          "execution_count": 269
        }
      ]
    },
    {
      "cell_type": "markdown",
      "metadata": {
        "id": "kmZ-t3YOMA06",
        "colab_type": "text"
      },
      "source": [
        "## Zadanie 6 _(10pt)_\n",
        "\n",
        "Napisz program, który generuje liczbę $20$ liczb losowych (rozkład jednostajny) od $1$ do $100$\n",
        "* Wyświetl listę wygenerowanych liczb\n",
        "* Wyświetl średnią\n",
        "* Wyświetl największą i najmniejszą wartość\n",
        "* Wyświetl drugą największą i drugą najmniejszą wartość na liście\n",
        "* Wyświetl ile jest liczb parzystych na liście\n",
        " "
      ]
    },
    {
      "cell_type": "code",
      "metadata": {
        "id": "kBBiX9LgkvPM",
        "colab_type": "code",
        "colab": {}
      },
      "source": [
        "import random"
      ],
      "execution_count": 0,
      "outputs": []
    },
    {
      "cell_type": "code",
      "metadata": {
        "id": "akwW-TggMA1E",
        "colab_type": "code",
        "colab": {}
      },
      "source": [
        "def random_list():\n",
        "  my_list = []\n",
        "  for i in range(0, 20):\n",
        "    my_list.append(random.randrange(1,100))\n",
        "  return my_list"
      ],
      "execution_count": 0,
      "outputs": []
    },
    {
      "cell_type": "code",
      "metadata": {
        "id": "_HbYRcqIoDG9",
        "colab_type": "code",
        "colab": {}
      },
      "source": [
        "def sec_max(my_list):\n",
        "  clean_list = list(dict.fromkeys(my_list))\n",
        "  clean_list.remove(max(clean_list))\n",
        "  return max(clean_list)"
      ],
      "execution_count": 0,
      "outputs": []
    },
    {
      "cell_type": "code",
      "metadata": {
        "id": "iEaETucEo6-N",
        "colab_type": "code",
        "colab": {}
      },
      "source": [
        "def sec_min(my_list):\n",
        "  clean_list = list(dict.fromkeys(my_list))\n",
        "  clean_list.remove(min(clean_list))\n",
        "  return min(clean_list)"
      ],
      "execution_count": 0,
      "outputs": []
    },
    {
      "cell_type": "code",
      "metadata": {
        "id": "E6I7QDo-pIp0",
        "colab_type": "code",
        "colab": {}
      },
      "source": [
        "def count_even(my_list):\n",
        "  even = 0\n",
        "  for el in my_list:\n",
        "    if el % 2 == 0:\n",
        "      even += 1\n",
        "  return even"
      ],
      "execution_count": 0,
      "outputs": []
    },
    {
      "cell_type": "code",
      "metadata": {
        "id": "mf8FGNUSkOFG",
        "colab_type": "code",
        "outputId": "5eca7529-120f-487d-9288-61c1ceca7163",
        "colab": {
          "base_uri": "https://localhost:8080/",
          "height": 102
        }
      },
      "source": [
        "my_list = random_list()\n",
        "print(\"Moja lista: \" + str(my_list))\n",
        "print(\"Średnia: \" + str(sum(my_list)/len(my_list)))\n",
        "print(\"Max: \" + str(max(my_list)) + \", Min: \" + str(min(my_list)))\n",
        "print(\"Drugi max: \" + str(sec_max(my_list)) + \", drugi min: \" + str(sec_min(my_list)))\n",
        "print(\"Parzystych: \" + str(count_even(my_list)))"
      ],
      "execution_count": 0,
      "outputs": [
        {
          "output_type": "stream",
          "text": [
            "Moja lista: [48, 38, 19, 41, 79, 32, 6, 20, 39, 84, 83, 45, 60, 34, 54, 78, 63, 41, 72, 21]\n",
            "Średnia: 47.85\n",
            "Max: 84, Min: 6\n",
            "Drugi max: 83, drugi min: 19\n",
            "Parzystych: 11\n"
          ],
          "name": "stdout"
        }
      ]
    },
    {
      "cell_type": "markdown",
      "metadata": {
        "id": "hE4No1hoMA1j",
        "colab_type": "text"
      },
      "source": [
        "## Zadanie 7 _(10pt)_\n",
        "\n",
        "Załóżmy, że mamy następującą listę: `L = ['aababacaa', 'cabaabcca', 'aaabbcbacb', 'acababbaab', ...]` wygenerowaną losowo tzn. lista zawiera losowe ciągi znaków o zadanej długości z liter `'a'`, `'b'` i `'c'`. Takie wzorce występują w wielu miejscach np. sekwencje DNA. Użytkownik zawiera swój (wzorzec) ciąg znaków z literami i pustymi miejscami oznaczonymi przez `'*'` np. `\"a**a******\"`. Wykorzystaj słownik z kluczami zawierającymi indeksy znaków różnych od `'*'` i wartościami liter z wzorca. Napisz program, który znajduje wszystkie sekwencje z listy, które pasuje do podanego wzorca."
      ]
    },
    {
      "cell_type": "code",
      "metadata": {
        "id": "lQNQTEZZX09m",
        "colab_type": "code",
        "colab": {}
      },
      "source": [
        "import random"
      ],
      "execution_count": 0,
      "outputs": []
    },
    {
      "cell_type": "code",
      "metadata": {
        "id": "08H3ByNWMA1v",
        "colab_type": "code",
        "colab": {}
      },
      "source": [
        "def generate_random_list(n,k):\n",
        "  my_data = ['a', 'b', 'c']\n",
        "  my_list = []\n",
        "  for i in range(0, n):\n",
        "    el = ''\n",
        "    for j in range(0, k):\n",
        "      el += (random.choice(my_data))\n",
        "    my_list.append(el)\n",
        "  return my_list"
      ],
      "execution_count": 0,
      "outputs": []
    },
    {
      "cell_type": "code",
      "metadata": {
        "id": "Vxnhls4oc7Kw",
        "colab_type": "code",
        "colab": {}
      },
      "source": [
        "def convert_to_dict(pattern):\n",
        "  my_dict = {}\n",
        "  for i in range(len(pattern)):\n",
        "    if pattern[i] != '*':\n",
        "      my_dict[i] = pattern[i]\n",
        "  return my_dict"
      ],
      "execution_count": 0,
      "outputs": []
    },
    {
      "cell_type": "code",
      "metadata": {
        "id": "kbicbCPiY3rA",
        "colab_type": "code",
        "colab": {}
      },
      "source": [
        "def match_to_pattern(pattern, lists):\n",
        "  matching = []\n",
        "  for current in lists:\n",
        "    for key in pattern:\n",
        "      if pattern[key] != current[key]:\n",
        "        break\n",
        "    else:\n",
        "      matching.append(current)\n",
        "  return(matching)"
      ],
      "execution_count": 0,
      "outputs": []
    },
    {
      "cell_type": "code",
      "metadata": {
        "id": "NMNTbR7YYVJn",
        "colab_type": "code",
        "outputId": "502dfc42-3469-4998-9da7-0643ab6b9568",
        "colab": {
          "base_uri": "https://localhost:8080/",
          "height": 105
        }
      },
      "source": [
        "list_len = 10\n",
        "lists = 100\n",
        "my_pat = ('c*a*b**c*b')\n",
        "\n",
        "print('Wzorzec: ' + str(my_pat))\n",
        "pat = convert_to_dict(my_pat)\n",
        "print('Slownik: ' + str(pat))\n",
        "x = generate_random_list(lists,list_len)\n",
        "print('Moja lista: ' + str(x))\n",
        "print('Pasujące: ' + str(match_to_pattern(pat, x)));\n"
      ],
      "execution_count": 0,
      "outputs": [
        {
          "output_type": "stream",
          "text": [
            "Wzorzec: c*a*b**c*b\n",
            "Slownik: {0: 'c', 2: 'a', 4: 'b', 7: 'c', 9: 'b'}\n",
            "Moja lista: ['cabccbbaaa', 'babacbbacc', 'acbaabbcca', 'abbbcbacbb', 'bbacaabaca', 'cbcccbcbca', 'bcabbbbbba', 'bacbaababc', 'aaaaababbb', 'abbaccbbab', 'bcbbbaaabc', 'bcbabbaacb', 'abbbbacaab', 'abccabcbcb', 'abbcbcabac', 'bcbbaccbca', 'cbacacabca', 'cccacacacc', 'ccbcbbccaa', 'bcabbabcbc', 'baacacbbab', 'baacbcbcab', 'aaabababba', 'abcabcaaaa', 'acaccaccbb', 'bbcacaabcb', 'aabcccabcc', 'cabbcccbcb', 'abbbaababb', 'bcbbabbbba', 'acbabacbbb', 'bcaaaccacc', 'acaaaabbcb', 'accbcacbaa', 'aabcbaaaab', 'bcbcabcacc', 'bbaacbacba', 'cccacbacac', 'aabbaabcba', 'aaccbabacb', 'cbbabacaab', 'baaababbcc', 'bcaaabccbb', 'acbaaccacb', 'abaaabacca', 'cbaaaabcaa', 'cbcabbccbb', 'cccacbccaa', 'babaabbbcc', 'bbbabbacbb', 'cccbcccaca', 'cabacbcacc', 'aabccbacba', 'acbcbcbabb', 'ccaabcbcbb', 'abcaaaccca', 'bcacbbaccb', 'abcccbcccc', 'caaabbcbcb', 'acbacccacc', 'aacbabcaaa', 'ccbcbcbbcc', 'cccabcbccc', 'cbbabbbcab', 'bcccabcbac', 'abacabbbab', 'bcacabcbcc', 'baacabcbcb', 'cabaaaccab', 'bbcaaacaac', 'cbaacbcbcc', 'bbbcaabcca', 'aacacaccaa', 'cbabacabab', 'aabaabcbca', 'bcabacbccb', 'acacacaaab', 'abcaaabcac', 'ccbabcaacc', 'acbbbabbca', 'accbccbbbb', 'cbbccbbaac', 'accbcccbab', 'bababcbccc', 'cbcacbaacc', 'bcabcccbcb', 'bbaaaaccca', 'cbcbbbbbac', 'ccaaabbabc', 'cabcbbbaba', 'aacbbacbab', 'cbbabaabcb', 'bbbbbccbcb', 'abbcaccccb', 'baaabbacab', 'bacaaaabac', 'abcbcccbbc', 'bababcacbc', 'ccbaaaacba', 'acbcaccbbb']\n",
            "Pasujące: ['ccaabcbcbb']\n"
          ],
          "name": "stdout"
        }
      ]
    },
    {
      "cell_type": "markdown",
      "metadata": {
        "id": "ZXTpT-52MA2I",
        "colab_type": "text"
      },
      "source": [
        "## Zadanie 8 _(10pt)_\n",
        "\n",
        "Napisz program, który konwerteruje liczby rzymskie na liczby arabskie. Do zapisu liczb rzymskich używa\n",
        "się 7 liter: `I=1`, `V=5`, `X=10`, `L=50`, `C=100`, `D=500`, `M=1000`. Opis algorytmu zamiany z i na system rzymski można znaleźć np. [tutaj](http://www.algorytm.org/algorytmy-arytmetyczne/zamiana-z-i-na-system-rzymski.html)"
      ]
    },
    {
      "cell_type": "code",
      "metadata": {
        "id": "3KC6LUEd6Hq_",
        "colab_type": "code",
        "colab": {}
      },
      "source": [
        "def roman_to_arabic(number): # lepiej\n",
        "  res = 0\n",
        "  current = 1001\n",
        "  number_dict = {1:'I', 5:'V', 10:'X', 50:'L', 100:'C', 500:'D', 1000:'M'}\n",
        "  for i in range(len(number)):\n",
        "    for key in number_dict:\n",
        "      if number[i] == number_dict.get(key):\n",
        "        res += key\n",
        "        if current < key:\n",
        "          res -= 2*current\n",
        "        current = key\n",
        "  return res"
      ],
      "execution_count": 0,
      "outputs": []
    },
    {
      "cell_type": "code",
      "metadata": {
        "id": "m847F_yrryn-",
        "colab_type": "code",
        "outputId": "0b7f62f2-6c5f-4a29-dab7-814c72ab2c71",
        "colab": {
          "base_uri": "https://localhost:8080/",
          "height": 34
        }
      },
      "source": [
        "roman_to_arabic(\"MMMCMXCIX\")"
      ],
      "execution_count": 0,
      "outputs": [
        {
          "output_type": "execute_result",
          "data": {
            "text/plain": [
              "3999"
            ]
          },
          "metadata": {
            "tags": []
          },
          "execution_count": 11
        }
      ]
    },
    {
      "cell_type": "markdown",
      "metadata": {
        "id": "2L3AUPSbMA2u",
        "colab_type": "text"
      },
      "source": [
        "## Zadanie 9* _(5pt)_\n",
        "\n",
        "Napisz program kalkulator, który pobiera wprowadzone wartości oraz funkcje z klawiatury następnie podaje wynik. W przypadku błędnych danych zgłasza błąd.\n",
        "\n",
        "Przykładowa sesja:\n",
        "```\n",
        "    Kalkulator\n",
        "    [1]: 2+5*10\n",
        "        52\n",
        "    [2]: sin(0.5)+cos(0.3)\n",
        "        1.434762027729809\n",
        "    [3]: 2^100\n",
        "        1267650600228229401496703205376\n",
        "```\n",
        "\n",
        "Przykładowy kod pobierania danych od użytkownika:\n",
        "\n",
        "```\n",
        "    x = input('Podaj x = ')\n",
        "```"
      ]
    },
    {
      "cell_type": "code",
      "metadata": {
        "id": "KRRK7haYnDBU",
        "colab_type": "code",
        "colab": {}
      },
      "source": [
        "from math import *"
      ],
      "execution_count": 0,
      "outputs": []
    },
    {
      "cell_type": "code",
      "metadata": {
        "id": "u7frBACkMA26",
        "colab_type": "code",
        "colab": {}
      },
      "source": [
        "def calc_input():\n",
        "  while True:\n",
        "    x = input('Do policzenia: ')\n",
        "    if(x=='q'):\n",
        "      return\n",
        "    try:\n",
        "      print(str(eval(x)))\n",
        "    except:\n",
        "      print('Wprowadzono niepoprawne dane.')"
      ],
      "execution_count": 0,
      "outputs": []
    },
    {
      "cell_type": "code",
      "metadata": {
        "id": "XJbkJijs_QVQ",
        "colab_type": "code",
        "outputId": "08d5137d-fb8b-498f-b32f-bfce9466ef7c",
        "colab": {
          "base_uri": "https://localhost:8080/",
          "height": 204
        }
      },
      "source": [
        "calc_input()"
      ],
      "execution_count": 0,
      "outputs": [
        {
          "output_type": "stream",
          "text": [
            "Do policzenia: sin(0.5)\n",
            "0.479425538604203\n",
            "Do policzenia: 2+5*10\n",
            "52\n",
            "Do policzenia: 2^100\n",
            "102\n",
            "Do policzenia: 2**100\n",
            "1267650600228229401496703205376\n",
            "Do policzenia: pop\n",
            "Wprowadzono niepoprawne dane.\n",
            "Do policzenia: q\n"
          ],
          "name": "stdout"
        }
      ]
    },
    {
      "cell_type": "markdown",
      "metadata": {
        "id": "Fnhw_aWZMA3U",
        "colab_type": "text"
      },
      "source": [
        "\n",
        "## Zadanie 10* _(10pt)_\n",
        "\n",
        "Napisz program, który rysuje na ekranie w trybie znakowym wykres funkcji zmiennej $x$. Wskazówka: utwórz  ,,tablicę dwuwymiarową'' o wymiarach 80x24 i narysuj wykres w tej tablicy. Następnie wynik wyświetl na ekranie.\n",
        "\n",
        "```\n",
        "        Podaj funkcje f(x) = sin(x)\n",
        "        Podaj początek przedziału a = -pi\n",
        "        Podaj koniec przedziału b = pi\n",
        "                                                |\n",
        "                                                |\n",
        "                                                |              ***********\n",
        "                                                |           ***           ***\n",
        "                                                |         **                 **\n",
        "                                                |        *                     *\n",
        "                                                |      **                       **\n",
        "                                                |     *                           *\n",
        "                                                |   **                             **\n",
        "                                                |  *                                 *\n",
        "                                                | *                                   *\n",
        "                                                |*                                     *\n",
        "        ----------------------------------------|---------------------------------------\n",
        "          *                                   * |\n",
        "           *                                 *  |\n",
        "            **                             **   |\n",
        "              *                           *     |\n",
        "               **                       **      |\n",
        "                 *                     *        |\n",
        "                  **                 **         |\n",
        "                    ***           ***           |\n",
        "                       ***** *****              |\n",
        "                            *                   |\n",
        "                                                |\n",
        "```"
      ]
    },
    {
      "cell_type": "code",
      "metadata": {
        "id": "aE7qxhWiMA3e",
        "colab_type": "code",
        "colab": {}
      },
      "source": [
        "import numpy as np\n",
        "from math import *"
      ],
      "execution_count": 0,
      "outputs": []
    },
    {
      "cell_type": "code",
      "metadata": {
        "id": "Mj40qVQOocXO",
        "colab_type": "code",
        "colab": {}
      },
      "source": [
        "def read_func():\n",
        "  return input('Insert function: ')"
      ],
      "execution_count": 0,
      "outputs": []
    },
    {
      "cell_type": "code",
      "metadata": {
        "id": "jHCw2a9uorA4",
        "colab_type": "code",
        "colab": {}
      },
      "source": [
        "def read_input():\n",
        "  res = []\n",
        "  try:\n",
        "    res.append(float(input('Lower range: ')))\n",
        "    res.append(float(input('Upper range: ')))\n",
        "  except:\n",
        "    print('Wrong format.')\n",
        "    exit(1)\n",
        "  return res"
      ],
      "execution_count": 0,
      "outputs": []
    },
    {
      "cell_type": "code",
      "metadata": {
        "id": "10KEEtTlpNRf",
        "colab_type": "code",
        "colab": {}
      },
      "source": [
        "def exec_func(input_range, width, input_func):\n",
        "  values = {}\n",
        "  my_range = np.arange(input_range[0], input_range[1], (input_range[1] - input_range[0])/width)\n",
        "  for arg in my_range:\n",
        "    temp = input_func.replace('x', str(arg))\n",
        "    try:\n",
        "      values[round(arg, 2)] = round(eval(temp), 2)\n",
        "    except:\n",
        "      print('Wrong format.')\n",
        "      exit(1)\n",
        "  return values\n"
      ],
      "execution_count": 0,
      "outputs": []
    },
    {
      "cell_type": "code",
      "metadata": {
        "id": "HnnUgH14Oenk",
        "colab_type": "code",
        "colab": {}
      },
      "source": [
        "def cast_to_plot(w, h, input_range, input_func):\n",
        "  max_val = max(values.keys(), key=(lambda k: values[k]))\n",
        "  min_val = min(values.keys(), key=(lambda k: values[k]))\n",
        "  y_scale = h/max(abs(values[max_val]), abs(values[min_val]))\n",
        "  x_scale = w/(input_range[1] - input_range[0])\n",
        "  res = []\n",
        "  for i in range(0, h+1):\n",
        "    res.append([])\n",
        "    for j in range(0, w+1):\n",
        "      res[i].extend(' ') \n",
        "  for arg in values:\n",
        "    res[int(round(h/2)+round(values[arg]*y_scale)/2)][int(round(w/2)+round(arg*x_scale))] = '*'\n",
        "    #print('x = ' + str(int(round(w/2)+round(arg*x_scale))) + ' y = ' + str(int(round(h/2)+round(values[arg]*y_scale)/2)))\n",
        "  for k in range(w+1):\n",
        "    res[int(round(h/2))][k] = '-'\n",
        "  for m in range(h+1):\n",
        "    res[m][int(round(w/2))] = '|'\n",
        "  return res"
      ],
      "execution_count": 0,
      "outputs": []
    },
    {
      "cell_type": "code",
      "metadata": {
        "id": "k7SG-wJKcjFP",
        "colab_type": "code",
        "colab": {}
      },
      "source": [
        "def plot(matrix, w, h):\n",
        "  for i in range(h+1):\n",
        "    for j in range(w+1):\n",
        "      print(matrix[h-i][j], end=' ')\n",
        "    print()\n",
        "\n",
        "\n"
      ],
      "execution_count": 0,
      "outputs": []
    },
    {
      "cell_type": "code",
      "metadata": {
        "colab_type": "code",
        "outputId": "d07a2eec-c397-4442-e1c3-fdaa3337dfd2",
        "id": "93qwqzKdRkwj",
        "colab": {
          "base_uri": "https://localhost:8080/",
          "height": 765
        }
      },
      "source": [
        "h = 40\n",
        "w = 80\n",
        "input_func = read_func()\n",
        "input_range = read_input()\n",
        "values = exec_func(input_range, w, input_func)\n",
        "\n",
        "plot_matrix = cast_to_plot(w, h, input_range, input_func)\n",
        "plot(plot_matrix, w, h)\n"
      ],
      "execution_count": 0,
      "outputs": [
        {
          "output_type": "stream",
          "text": [
            "Insert function: (cos(x))**2\n",
            "Lower range: -3\n",
            "Upper range: 3\n",
            "                                                                              * | *                                                                               \n",
            "* *                                                                       * *   |   * *                                                                       *   \n",
            "    *                                                                   *       |       *                                                                   *     \n",
            "      *                                                               *         |         *                                                               *       \n",
            "        *                                                           *           |           *                                                           *         \n",
            "          *                                                       *             |             *                                                       *           \n",
            "            *                                                                   |                                                                   *             \n",
            "                                                                *               |               *                                                                 \n",
            "              *                                               *                 |                 *                                               *               \n",
            "                *                                           *                   |                   *                                           *                 \n",
            "                                                                                |                                                                                 \n",
            "                  *                                       *                     |                     *                                       *                   \n",
            "                    *                                   *                       |                       *                                   *                     \n",
            "                                                                                |                                                                                 \n",
            "                      *                               *                         |                         *                               *                       \n",
            "                        *                           *                           |                           *                           *                         \n",
            "                          *                       *                             |                             *                       *                           \n",
            "                            *                                                   |                                                   *                             \n",
            "                              *                 *                               |                               *                 *                               \n",
            "                                *           * *                                 |                                 * *           *                                 \n",
            "- - - - - - - - - - - - - - - - - - - - - - - - - - - - - - - - - - - - - - - - | - - - - - - - - - - - - - - - - - - - - - - - - - - - - - - - - - - - - - - - - \n",
            "                                                                                |                                                                                 \n",
            "                                                                                |                                                                                 \n",
            "                                                                                |                                                                                 \n",
            "                                                                                |                                                                                 \n",
            "                                                                                |                                                                                 \n",
            "                                                                                |                                                                                 \n",
            "                                                                                |                                                                                 \n",
            "                                                                                |                                                                                 \n",
            "                                                                                |                                                                                 \n",
            "                                                                                |                                                                                 \n",
            "                                                                                |                                                                                 \n",
            "                                                                                |                                                                                 \n",
            "                                                                                |                                                                                 \n",
            "                                                                                |                                                                                 \n",
            "                                                                                |                                                                                 \n",
            "                                                                                |                                                                                 \n",
            "                                                                                |                                                                                 \n",
            "                                                                                |                                                                                 \n",
            "                                                                                |                                                                                 \n",
            "                                                                                |                                                                                 \n"
          ],
          "name": "stdout"
        }
      ]
    }
  ]
}